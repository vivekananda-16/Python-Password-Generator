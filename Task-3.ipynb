{
 "cells": [
  {
   "cell_type": "code",
   "execution_count": 9,
   "id": "f51aa4ec",
   "metadata": {},
   "outputs": [
    {
     "name": "stdout",
     "output_type": "stream",
     "text": [
      "How many passwords do you want to generate? 1\n",
      "Generating 1 passwords\n",
      "Password length should be at least 8 characters for security.\n",
      "Enter the length of Password #1 6\n",
      "Password #1 = 7j4pDKGE\n"
     ]
    }
   ],
   "source": [
    "import random\n",
    "\n",
    "def generate_password(length=8):\n",
    "    characters = string.ascii_letters + string.digits + string.punctuation\n",
    "    password = ''.join(random.choice(characters) for _ in range(length))\n",
    "    return password\n",
    "\n",
    "\n",
    "\n",
    "def replaceWithNumber(pword):\n",
    "    for i in range(random.randrange(1,8)):\n",
    "        replace_index = random.randrange(len(pword)//2)\n",
    "        pword = pword[0:replace_index] + str(random.randrange(10)) + pword[replace_index+1:]\n",
    "    return pword\n",
    "\n",
    "\n",
    "def replaceWithUppercaseLetter(pword):\n",
    "    for i in range(random.randrange(1,8)):\n",
    "        replace_index = random.randrange(len(pword)//2,len(pword))\n",
    "        pword = pword[0:replace_index] + pword[replace_index].upper() + pword[replace_index+1:]\n",
    "    return pword\n",
    "\n",
    "\n",
    "\n",
    "def main():\n",
    "    \n",
    "    numPasswords = int(input(\"How many passwords do you want to generate? \"))\n",
    "    \n",
    "    print(\"Generating \" +str(numPasswords)+\" passwords\")\n",
    "    \n",
    "    passwordLengths = []\n",
    "\n",
    "    print(\"Password length should be at least 8 characters for security.\")\n",
    "\n",
    "    for i in range(numPasswords):\n",
    "        length = int(input(\"Enter the length of Password #\" + str(i+1) + \" \"))\n",
    "        if length<8:\n",
    "            length = 8\n",
    "        passwordLengths.append(length)\n",
    "    \n",
    "    \n",
    "    Passwords = generatePassword(passwordLengths)\n",
    "\n",
    "    for i in range(numPasswords):\n",
    "        print (\"Password #\"+str(i+1)+\" = \" + Passwords[i])\n",
    "\n",
    "\n",
    "\n",
    "main()\n"
   ]
  },
  {
   "cell_type": "code",
   "execution_count": null,
   "id": "03cfdd3f",
   "metadata": {},
   "outputs": [],
   "source": []
  }
 ],
 "metadata": {
  "kernelspec": {
   "display_name": "Python 3",
   "language": "python",
   "name": "python3"
  },
  "language_info": {
   "codemirror_mode": {
    "name": "ipython",
    "version": 3
   },
   "file_extension": ".py",
   "mimetype": "text/x-python",
   "name": "python",
   "nbconvert_exporter": "python",
   "pygments_lexer": "ipython3",
   "version": "3.8.8"
  }
 },
 "nbformat": 4,
 "nbformat_minor": 5
}
